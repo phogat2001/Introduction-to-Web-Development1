{
  "nbformat": 4,
  "nbformat_minor": 0,
  "metadata": {
    "colab": {
      "provenance": []
    },
    "kernelspec": {
      "name": "python3",
      "display_name": "Python 3"
    },
    "language_info": {
      "name": "python"
    }
  },
  "cells": [
    {
      "cell_type": "markdown",
      "source": [
        "1.Write a simple program in HTML  that displays the heading \"HTML defines the content and structure of\n",
        "your website” on the web browser?"
      ],
      "metadata": {
        "id": "YS70XctA8zMG"
      }
    },
    {
      "cell_type": "code",
      "source": [
        "<!DOCTYPE html>\n",
        "<html lang=\"en\">\n",
        "<head>\n",
        "    <meta charset=\"UTF-8\">\n",
        "    <meta name=\"viewport\" content=\"width=device-width, initial-scale=1.0\">\n",
        "    <title>Simple Heading</title>\n",
        "</head>\n",
        "<body>\n",
        "\n",
        "    <h1>HTML defines the content and structure of your website</h1>\n",
        "\n",
        "</body>\n",
        "</html>"
      ],
      "metadata": {
        "id": "8aGSNywW_vfs"
      },
      "execution_count": null,
      "outputs": []
    },
    {
      "cell_type": "markdown",
      "source": [
        "2.Explain the purpose of comments in HTML and provide an example of how to use comments in an HTML\n",
        "document?"
      ],
      "metadata": {
        "id": "6y0nobtJsELC"
      }
    },
    {
      "cell_type": "markdown",
      "source": [
        "- The purpose of comments in HTML is to allow developers to include notes, explanations, or temporary exclusions of code within the HTML document without having them rendered or displayed in the web browser. They are primarily for the benefit of humans reading and maintaining the code.\n",
        "  Example-HTML comments are enclosed within the tags <!--and -->."
      ],
      "metadata": {
        "id": "RfpNw5S3sDxF"
      }
    },
    {
      "cell_type": "markdown",
      "source": [
        "3.Write an HTML program that includes a heading, a paragraph of text, a horizontal line, and a line break.\n",
        "Arrange these elements to create a simple web page layout?"
      ],
      "metadata": {
        "id": "_CVFjsPUvKOT"
      }
    },
    {
      "cell_type": "code",
      "source": [
        "<!DOCTYPE html>\n",
        "<html>\n",
        "<head>\n",
        "<title>Basic Layout</title>\n",
        "</head>\n",
        "<body>\n",
        "  <h1>My First Heading</h1>\n",
        "  <p>This is a paragraph of text.</p>\n",
        "  <hr>\n",
        "  <p>This is a new paragraph.<br>\n",
        "  With a line break in the middle.</p>\n",
        "</body>\n",
        "</html>"
      ],
      "metadata": {
        "id": "wR4pheI96DYT"
      },
      "execution_count": null,
      "outputs": []
    },
    {
      "cell_type": "markdown",
      "source": [
        "4.Write a short note on Tag and element with an example?"
      ],
      "metadata": {
        "id": "qbU2HmnxyPsx"
      }
    },
    {
      "cell_type": "markdown",
      "source": [
        "- In HTML, a tag is a markup that defines a particular element or piece of information within a webpage. An element is the entire structure encompassing the opening and closing tags, as well as any content between them."
      ],
      "metadata": {
        "id": "-flrKHpJ3Oc1"
      }
    },
    {
      "cell_type": "markdown",
      "source": [
        "5.What is the DOCTYPE Declaration in HTML?"
      ],
      "metadata": {
        "id": "U0cVQKF7zEXA"
      }
    },
    {
      "cell_type": "markdown",
      "source": [
        "- The DOCTYPE declaration in HTML tells the browser the version of HTML the document is written in, ensuring correct rendering. It's the first thing in an HTML file, before the <html> tag."
      ],
      "metadata": {
        "id": "Kp7kbi_NzdBW"
      }
    }
  ]
}